{
 "cells": [
  {
   "cell_type": "code",
   "execution_count": 1,
   "metadata": {
    "vscode": {
     "languageId": "r"
    }
   },
   "outputs": [
    {
     "name": "stderr",
     "output_type": "stream",
     "text": [
      "-- \u001b[1mAttaching core tidyverse packages\u001b[22m ------------------------ tidyverse 2.0.0 --\n",
      "\u001b[32mv\u001b[39m \u001b[34mdplyr    \u001b[39m 1.1.4     \u001b[32mv\u001b[39m \u001b[34mreadr    \u001b[39m 2.1.5\n",
      "\u001b[32mv\u001b[39m \u001b[34mforcats  \u001b[39m 1.0.0     \u001b[32mv\u001b[39m \u001b[34mstringr  \u001b[39m 1.5.1\n",
      "\u001b[32mv\u001b[39m \u001b[34mggplot2  \u001b[39m 3.4.4     \u001b[32mv\u001b[39m \u001b[34mtibble   \u001b[39m 3.2.1\n",
      "\u001b[32mv\u001b[39m \u001b[34mlubridate\u001b[39m 1.9.3     \u001b[32mv\u001b[39m \u001b[34mtidyr    \u001b[39m 1.3.0\n",
      "\u001b[32mv\u001b[39m \u001b[34mpurrr    \u001b[39m 1.0.2     \n",
      "-- \u001b[1mConflicts\u001b[22m ------------------------------------------ tidyverse_conflicts() --\n",
      "\u001b[31mx\u001b[39m \u001b[34mdplyr\u001b[39m::\u001b[32mfilter()\u001b[39m masks \u001b[34mstats\u001b[39m::filter()\n",
      "\u001b[31mx\u001b[39m \u001b[34mdplyr\u001b[39m::\u001b[32mlag()\u001b[39m    masks \u001b[34mstats\u001b[39m::lag()\n",
      "\u001b[36mi\u001b[39m Use the conflicted package (\u001b[3m\u001b[34m<http://conflicted.r-lib.org/>\u001b[39m\u001b[23m) to force all conflicts to become errors\n"
     ]
    }
   ],
   "source": [
    "library(tidyverse)\n",
    "library(stringr)"
   ]
  },
  {
   "cell_type": "code",
   "execution_count": null,
   "metadata": {
    "vscode": {
     "languageId": "r"
    }
   },
   "outputs": [],
   "source": [
    "meta = read_csv('/Users/lye1/data/projects_akdemirlab/catalyst_main/meta/summary_2025_01_17.csv') %>% \n",
    "dplyr::select(patient_id, sample_id, wgs_seq_id)\n",
    "\n",
    "chr = meta %>% right_join(read_csv(\"/Users/lye1/data/projects_akdemirlab/catalyst_main/results/figure_comut_v2/comut_chr_wgs.csv\"),\n",
    "by=c(\"wgs_seq_id\"=\"sample\")) %>% dplyr::select(-wgs_seq_id) %>% filter(!is.na(value))\n",
    "\n",
    "snv_genes1 = read_csv(\"/Users/lye1/data/projects_akdemirlab/catalyst_main/results/figure_comut_v2/comut_driver_genes_l075.csv\") \n",
    "snv_genes2 = read_csv(\"/Users/lye1/data/projects_akdemirlab/catalyst_main/results/figure_comut_v2/comut_driver_genes_mutect2_snv.csv\")\n",
    "snv_genes = rbind(snv_genes1, snv_genes2) %>%\n",
    "filter(category %in% c('IDH1','IDH2','EGFR','CDKN2A','ATRX','TERT','CIC','FUBP1')) %>%\n",
    "unique()\n",
    "snv_genes = meta %>% right_join(snv_genes,\n",
    "by=c(\"wgs_seq_id\"=\"sample\")) %>% dplyr::select(-wgs_seq_id) %>% filter(!is.na(value))\n",
    "\n",
    "cnv_genes = read_csv(\"/Users/lye1/data/projects_akdemirlab/catalyst_main/results/figure_comut_v2/comut_genes_wgs.csv\")\n",
    "cnv_genes = cnv_genes %>% filter(!is.na(value)) %>%\n",
    "filter(category %in% c('IDH1','IDH2','EGFR','CDKN2A','ATRX','TERT','CIC','FUBP1')) %>%\n",
    "unique()\n",
    "cnv_genes = meta %>% right_join(cnv_genes,\n",
    "by=c(\"wgs_seq_id\"=\"sample\")) %>% dplyr::select(-wgs_seq_id) %>% filter(!is.na(value))\n",
    "\n",
    "comut_complex_sv = read_csv(\"/Users/lye1/data/projects_akdemirlab/catalyst_main/results/figure_comut_v2/comut_complex_sv.csv\")\n",
    "comut_complex_sv = meta %>% right_join(comut_complex_sv,\n",
    "by=c(\"wgs_seq_id\"=\"sample\")) %>% dplyr::select(-wgs_seq_id) %>% filter(!is.na(value))\n",
    "\n",
    "mut_sigs = read_csv(\"/Users/lye1/data/projects_akdemirlab/catalyst_main/meta/mut_sigs_012225_simplified.csv\")\n",
    "mut_sigs = meta %>% right_join(mut_sigs,\n",
    "by=c(\"wgs_seq_id\"=\"wgs_seq_id\")) %>% dplyr::select(-wgs_seq_id) "
   ]
  },
  {
   "cell_type": "code",
   "execution_count": null,
   "metadata": {
    "vscode": {
     "languageId": "r"
    }
   },
   "outputs": [],
   "source": [
    "write_csv(snv_genes, \"/Users/lye1/data/projects_akdemirlab/catalyst_main/results/figure_comut_v2/table_driver_genes_snv.csv\" )\n",
    "write_csv(cnv_genes, \"/Users/lye1/data/projects_akdemirlab/catalyst_main/results/figure_comut_v2/table_driver_genes_cnv.csv\" )\n",
    "write_csv(chr, \"/Users/lye1/data/projects_akdemirlab/catalyst_main/results/figure_comut_v2/table_chr_cnv.csv\" )\n",
    "write_csv(comut_complex_sv, \"/Users/lye1/data/projects_akdemirlab/catalyst_main/results/figure_comut_v2/table_complex_sv.csv\" )\n",
    "write_csv(mut_sigs, \"/Users/lye1/data/projects_akdemirlab/catalyst_main/results/figure_comut_v2/table_mut_sigs.csv\" )"
   ]
  },
  {
   "cell_type": "code",
   "execution_count": 5,
   "metadata": {
    "vscode": {
     "languageId": "r"
    }
   },
   "outputs": [
    {
     "name": "stderr",
     "output_type": "stream",
     "text": [
      "\u001b[1mRows: \u001b[22m\u001b[34m1742\u001b[39m \u001b[1mColumns: \u001b[22m\u001b[34m3\u001b[39m\n",
      "\u001b[36m--\u001b[39m \u001b[1mColumn specification\u001b[22m \u001b[36m--------------------------------------------------------\u001b[39m\n",
      "\u001b[1mDelimiter:\u001b[22m \",\"\n",
      "\u001b[31mchr\u001b[39m (3): sample, category, value\n",
      "\n",
      "\u001b[36mi\u001b[39m Use `spec()` to retrieve the full column specification for this data.\n",
      "\u001b[36mi\u001b[39m Specify the column types or set `show_col_types = FALSE` to quiet this message.\n",
      "\u001b[1mRows: \u001b[22m\u001b[34m76198\u001b[39m \u001b[1mColumns: \u001b[22m\u001b[34m3\u001b[39m\n",
      "\u001b[36m--\u001b[39m \u001b[1mColumn specification\u001b[22m \u001b[36m--------------------------------------------------------\u001b[39m\n",
      "\u001b[1mDelimiter:\u001b[22m \",\"\n",
      "\u001b[31mchr\u001b[39m (3): sample, category, value\n",
      "\n",
      "\u001b[36mi\u001b[39m Use `spec()` to retrieve the full column specification for this data.\n",
      "\u001b[36mi\u001b[39m Specify the column types or set `show_col_types = FALSE` to quiet this message.\n"
     ]
    }
   ],
   "source": [
    "snv_genes1 = read_csv(\"/Users/lye1/data/projects_akdemirlab/catalyst_main/results/figure_comut_v2/comut_driver_genes_l075.csv\") \n",
    "snv_genes2 = read_csv(\"/Users/lye1/data/projects_akdemirlab/catalyst_main/results/figure_comut_v2/comut_driver_genes_mutect2_snv.csv\")\n",
    "snv_genes = rbind(snv_genes1, snv_genes2) %>%\n",
    "filter(category %in% c('BRAF')) %>%\n",
    "unique()\n",
    "snv_genes = meta %>% right_join(snv_genes,\n",
    "by=c(\"wgs_seq_id\"=\"sample\")) %>% dplyr::select(-wgs_seq_id) %>% filter(!is.na(value))"
   ]
  },
  {
   "cell_type": "code",
   "execution_count": 6,
   "metadata": {
    "vscode": {
     "languageId": "r"
    }
   },
   "outputs": [
    {
     "data": {
      "text/html": [
       "<table class=\"dataframe\">\n",
       "<caption>A tibble: 1 x 4</caption>\n",
       "<thead>\n",
       "\t<tr><th scope=col>patient_id</th><th scope=col>sample_id</th><th scope=col>category</th><th scope=col>value</th></tr>\n",
       "\t<tr><th scope=col>&lt;chr&gt;</th><th scope=col>&lt;chr&gt;</th><th scope=col>&lt;chr&gt;</th><th scope=col>&lt;chr&gt;</th></tr>\n",
       "</thead>\n",
       "<tbody>\n",
       "\t<tr><td>p36</td><td>p36R2</td><td>BRAF</td><td>upstream</td></tr>\n",
       "</tbody>\n",
       "</table>\n"
      ],
      "text/latex": [
       "A tibble: 1 x 4\n",
       "\\begin{tabular}{llll}\n",
       " patient\\_id & sample\\_id & category & value\\\\\n",
       " <chr> & <chr> & <chr> & <chr>\\\\\n",
       "\\hline\n",
       "\t p36 & p36R2 & BRAF & upstream\\\\\n",
       "\\end{tabular}\n"
      ],
      "text/markdown": [
       "\n",
       "A tibble: 1 x 4\n",
       "\n",
       "| patient_id &lt;chr&gt; | sample_id &lt;chr&gt; | category &lt;chr&gt; | value &lt;chr&gt; |\n",
       "|---|---|---|---|\n",
       "| p36 | p36R2 | BRAF | upstream |\n",
       "\n"
      ],
      "text/plain": [
       "  patient_id sample_id category value   \n",
       "1 p36        p36R2     BRAF     upstream"
      ]
     },
     "metadata": {},
     "output_type": "display_data"
    }
   ],
   "source": [
    "snv_genes"
   ]
  }
 ],
 "metadata": {
  "kernelspec": {
   "display_name": "R",
   "language": "R",
   "name": "ir"
  },
  "language_info": {
   "codemirror_mode": "r",
   "file_extension": ".r",
   "mimetype": "text/x-r-source",
   "name": "R",
   "pygments_lexer": "r",
   "version": "4.2.1"
  }
 },
 "nbformat": 4,
 "nbformat_minor": 2
}
