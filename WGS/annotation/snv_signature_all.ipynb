{
 "cells": [
  {
   "cell_type": "code",
   "execution_count": 4,
   "metadata": {},
   "outputs": [],
   "source": [
    "%%bash\n",
    "\n",
    "cd /Volumes/scratch/neurosurgery/akdemirlab/catalyst_main/results/summary_v2/\n",
    "mkdir -p mutect2_snv\n",
    "cp mutect2/*.snv.vcf.gz mutect2_snv/\n",
    "gunzip mutect2_snv/*.gz"
   ]
  },
  {
   "cell_type": "code",
   "execution_count": 5,
   "metadata": {},
   "outputs": [
    {
     "name": "stdout",
     "output_type": "stream",
     "text": [
      "Starting matrix generation for SNVs and DINUCs...Completed! Elapsed time: 296.77 seconds.\n",
      "Matrices generated for 93 samples with 0 errors. Total of 3168132 SNVs, 266 DINUCs, and 0 INDELs were successfully analyzed.\n",
      "Assigning COSMIC sigs or Signature Database ...... \n",
      "|████████████████████████████████████████| 93/93 [100%] in 2:21.6 (0.66/s) \n",
      "\n",
      "\n",
      " \n",
      "Your Job Is Successfully Completed! Thank You For Using SigProfilerAssignment.\n",
      " \n"
     ]
    }
   ],
   "source": [
    "from SigProfilerMatrixGenerator.scripts import SigProfilerMatrixGeneratorFunc as matGen\n",
    "\n",
    "path = \"/Volumes/scratch/neurosurgery/akdemirlab/catalyst_main/results/summary_v2/mutect2_snv\"\n",
    "matrices=matGen.SigProfilerMatrixGeneratorFunc(\"all_mutect2\", \"GRCh38\", path,\n",
    "                                               plot=True, exome=False, bed_file=None, chrom_based=False, tsb_stat=False,\n",
    "                                               seqInfo=False, cushion=100)\n",
    "\n",
    "from SigProfilerAssignment import Analyzer as Analyze\n",
    "samples='/Volumes/scratch/neurosurgery/akdemirlab/catalyst_main/results/summary_v2/mutect2_snv/output/SBS/all_mutect2.SBS96.all'\n",
    "output='/Volumes/scratch/neurosurgery/akdemirlab/catalyst_main/results/summary_v2/mutect2_snv/output/SBS/SBS96_cosmic_fit'\n",
    "\n",
    "Analyze.cosmic_fit(samples=samples,\n",
    "                   output=output,input_type=\"matrix\",genome_build=\"GRCh38\", collapse_to_SBS96 = False)\n",
    "\n"
   ]
  }
 ],
 "metadata": {
  "kernelspec": {
   "display_name": "base",
   "language": "python",
   "name": "python3"
  },
  "language_info": {
   "codemirror_mode": {
    "name": "ipython",
    "version": 3
   },
   "file_extension": ".py",
   "mimetype": "text/x-python",
   "name": "python",
   "nbconvert_exporter": "python",
   "pygments_lexer": "ipython3",
   "version": "3.12.7"
  }
 },
 "nbformat": 4,
 "nbformat_minor": 2
}
