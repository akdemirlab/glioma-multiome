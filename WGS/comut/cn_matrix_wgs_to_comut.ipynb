{
 "cells": [
  {
   "cell_type": "code",
   "execution_count": 19,
   "metadata": {},
   "outputs": [],
   "source": [
    "import vatect as vt\n",
    "import os\n",
    "import pandas as pd\n",
    "import glob"
   ]
  },
  {
   "cell_type": "code",
   "execution_count": 20,
   "metadata": {},
   "outputs": [],
   "source": [
    "meta_file = \"/Users/lye1/data/projects_akdemirlab/catalyst_main/meta/summary_2025_01_17.csv\"\n",
    "meta = pd.read_csv(meta_file)\n",
    "\n",
    "directory_path = \"/Volumes/scratch/neurosurgery/akdemirlab/catalyst_main/results/summary_v2/ascat/*/*.copynumber.totalCn.bw\"\n",
    "files = [file for file in glob.glob(directory_path)]\n",
    "\n",
    "paths0 = [os.path.join(directory_path, file) for file in files]\n",
    "names0 = [os.path.basename(file).replace(\".copynumber.totalCn.bw\", \"\") for file in files]\n",
    "meta_ploidy = pd.merge(meta[['wgs_seq_id', 'ploidy_ascat']], pd.DataFrame({'wgs_seq_id':names0, 'paths':paths0}), on='wgs_seq_id', how='inner')\n",
    "#replace adjusted sample 235860-WG01\n",
    "meta_ploidy.loc[meta_ploidy['wgs_seq_id']=='235860-WG01','paths']='/Volumes/scratch/neurosurgery/akdemirlab/catalyst_main/results/ascat_adj/235860-WG01/235860-WG01.copynumber.totalCn.bw'\n",
    "meta_ploidy.loc[meta_ploidy['wgs_seq_id']=='235860-WG01','ploidy_ascat']=2.99737857818088\n",
    "\n",
    "paths = list(meta_ploidy['paths'])\n",
    "names = list(meta_ploidy['wgs_seq_id'])\n",
    "ploidy = list(meta_ploidy['ploidy_ascat'])"
   ]
  },
  {
   "cell_type": "code",
   "execution_count": 21,
   "metadata": {},
   "outputs": [
    {
     "name": "stdout",
     "output_type": "stream",
     "text": [
      "['/Volumes/scratch/neurosurgery/akdemirlab/catalyst_main/results/summary_v2/ascat/236626-WG01/236626-WG01.copynumber.totalCn.bw', '/Volumes/scratch/neurosurgery/akdemirlab/catalyst_main/results/summary_v2/ascat/235842-WG01/235842-WG01.copynumber.totalCn.bw', '/Volumes/scratch/neurosurgery/akdemirlab/catalyst_main/results/summary_v2/ascat/235843-WG01/235843-WG01.copynumber.totalCn.bw', '/Volumes/scratch/neurosurgery/akdemirlab/catalyst_main/results/summary_v2/ascat/237614-WG01/237614-WG01.copynumber.totalCn.bw', '/Volumes/scratch/neurosurgery/akdemirlab/catalyst_main/results/summary_v2/ascat/237615-WG01/237615-WG01.copynumber.totalCn.bw', '/Volumes/scratch/neurosurgery/akdemirlab/catalyst_main/results/summary_v2/ascat/236627-WG01/236627-WG01.copynumber.totalCn.bw', '/Volumes/scratch/neurosurgery/akdemirlab/catalyst_main/results/summary_v2/ascat/237616-WG01/237616-WG01.copynumber.totalCn.bw', '/Volumes/scratch/neurosurgery/akdemirlab/catalyst_main/results/summary_v2/ascat/235844-WG01/235844-WG01.copynumber.totalCn.bw', '/Volumes/scratch/neurosurgery/akdemirlab/catalyst_main/results/summary_v2/ascat/235845-WG01/235845-WG01.copynumber.totalCn.bw', '/Volumes/scratch/neurosurgery/akdemirlab/catalyst_main/results/summary_v2/ascat/235846-WG01/235846-WG01.copynumber.totalCn.bw', '/Volumes/scratch/neurosurgery/akdemirlab/catalyst_main/results/summary_v2/ascat/235847-WG01/235847-WG01.copynumber.totalCn.bw', '/Volumes/scratch/neurosurgery/akdemirlab/catalyst_main/results/summary_v2/ascat/239223-WG01/239223-WG01.copynumber.totalCn.bw', '/Volumes/scratch/neurosurgery/akdemirlab/catalyst_main/results/summary_v2/ascat/235848-WG01/235848-WG01.copynumber.totalCn.bw', '/Volumes/scratch/neurosurgery/akdemirlab/catalyst_main/results/summary_v2/ascat/235849-WG01/235849-WG01.copynumber.totalCn.bw', '/Volumes/scratch/neurosurgery/akdemirlab/catalyst_main/results/summary_v2/ascat/235850-WG01/235850-WG01.copynumber.totalCn.bw', '/Volumes/scratch/neurosurgery/akdemirlab/catalyst_main/results/summary_v2/ascat/235851-WG01/235851-WG01.copynumber.totalCn.bw', '/Volumes/scratch/neurosurgery/akdemirlab/catalyst_main/results/summary_v2/ascat/236628-WG01/236628-WG01.copynumber.totalCn.bw', '/Volumes/scratch/neurosurgery/akdemirlab/catalyst_main/results/summary_v2/ascat/235852-WG01/235852-WG01.copynumber.totalCn.bw', '/Volumes/scratch/neurosurgery/akdemirlab/catalyst_main/results/summary_v2/ascat/235853-WG01/235853-WG01.copynumber.totalCn.bw', '/Volumes/scratch/neurosurgery/akdemirlab/catalyst_main/results/summary_v2/ascat/237617-WG01/237617-WG01.copynumber.totalCn.bw', '/Volumes/scratch/neurosurgery/akdemirlab/catalyst_main/results/summary_v2/ascat/235854-WG01/235854-WG01.copynumber.totalCn.bw', '/Volumes/scratch/neurosurgery/akdemirlab/catalyst_main/results/summary_v2/ascat/238063-WG01/238063-WG01.copynumber.totalCn.bw', '/Volumes/scratch/neurosurgery/akdemirlab/catalyst_main/results/summary_v2/ascat/235855-WG01/235855-WG01.copynumber.totalCn.bw', '/Volumes/scratch/neurosurgery/akdemirlab/catalyst_main/results/summary_v2/ascat/235856-WG01/235856-WG01.copynumber.totalCn.bw', '/Volumes/scratch/neurosurgery/akdemirlab/catalyst_main/results/summary_v2/ascat/235857-WG01/235857-WG01.copynumber.totalCn.bw', '/Volumes/scratch/neurosurgery/akdemirlab/catalyst_main/results/summary_v2/ascat/235858-WG01/235858-WG01.copynumber.totalCn.bw', '/Volumes/scratch/neurosurgery/akdemirlab/catalyst_main/results/summary_v2/ascat/235859-WG01/235859-WG01.copynumber.totalCn.bw', '/Volumes/scratch/neurosurgery/akdemirlab/catalyst_main/results/ascat_adj/235860-WG01/235860-WG01.copynumber.totalCn.bw', '/Volumes/scratch/neurosurgery/akdemirlab/catalyst_main/results/summary_v2/ascat/235861-WG01/235861-WG01.copynumber.totalCn.bw', '/Volumes/scratch/neurosurgery/akdemirlab/catalyst_main/results/summary_v2/ascat/235862-WG01/235862-WG01.copynumber.totalCn.bw', '/Volumes/scratch/neurosurgery/akdemirlab/catalyst_main/results/summary_v2/ascat/235863-WG01/235863-WG01.copynumber.totalCn.bw', '/Volumes/scratch/neurosurgery/akdemirlab/catalyst_main/results/summary_v2/ascat/235864-WG01/235864-WG01.copynumber.totalCn.bw', '/Volumes/scratch/neurosurgery/akdemirlab/catalyst_main/results/summary_v2/ascat/235865-WG01/235865-WG01.copynumber.totalCn.bw', '/Volumes/scratch/neurosurgery/akdemirlab/catalyst_main/results/summary_v2/ascat/235866-WG01/235866-WG01.copynumber.totalCn.bw', '/Volumes/scratch/neurosurgery/akdemirlab/catalyst_main/results/summary_v2/ascat/235867-WG01/235867-WG01.copynumber.totalCn.bw', '/Volumes/scratch/neurosurgery/akdemirlab/catalyst_main/results/summary_v2/ascat/236629-WG01/236629-WG01.copynumber.totalCn.bw', '/Volumes/scratch/neurosurgery/akdemirlab/catalyst_main/results/summary_v2/ascat/235868-WG01/235868-WG01.copynumber.totalCn.bw', '/Volumes/scratch/neurosurgery/akdemirlab/catalyst_main/results/summary_v2/ascat/235869-WG01/235869-WG01.copynumber.totalCn.bw', '/Volumes/scratch/neurosurgery/akdemirlab/catalyst_main/results/summary_v2/ascat/235870-WG01/235870-WG01.copynumber.totalCn.bw', '/Volumes/scratch/neurosurgery/akdemirlab/catalyst_main/results/summary_v2/ascat/235871-WG01/235871-WG01.copynumber.totalCn.bw', '/Volumes/scratch/neurosurgery/akdemirlab/catalyst_main/results/summary_v2/ascat/235872-WG01/235872-WG01.copynumber.totalCn.bw', '/Volumes/scratch/neurosurgery/akdemirlab/catalyst_main/results/summary_v2/ascat/239238-WG01/239238-WG01.copynumber.totalCn.bw', '/Volumes/scratch/neurosurgery/akdemirlab/catalyst_main/results/summary_v2/ascat/235873-WG01/235873-WG01.copynumber.totalCn.bw', '/Volumes/scratch/neurosurgery/akdemirlab/catalyst_main/results/summary_v2/ascat/235874-WG01/235874-WG01.copynumber.totalCn.bw', '/Volumes/scratch/neurosurgery/akdemirlab/catalyst_main/results/summary_v2/ascat/235875-WG01/235875-WG01.copynumber.totalCn.bw', '/Volumes/scratch/neurosurgery/akdemirlab/catalyst_main/results/summary_v2/ascat/235876-WG01/235876-WG01.copynumber.totalCn.bw', '/Volumes/scratch/neurosurgery/akdemirlab/catalyst_main/results/summary_v2/ascat/235877-WG01/235877-WG01.copynumber.totalCn.bw', '/Volumes/scratch/neurosurgery/akdemirlab/catalyst_main/results/summary_v2/ascat/235878-WG01/235878-WG01.copynumber.totalCn.bw', '/Volumes/scratch/neurosurgery/akdemirlab/catalyst_main/results/summary_v2/ascat/235879-WG01/235879-WG01.copynumber.totalCn.bw', '/Volumes/scratch/neurosurgery/akdemirlab/catalyst_main/results/summary_v2/ascat/235880-WG01/235880-WG01.copynumber.totalCn.bw', '/Volumes/scratch/neurosurgery/akdemirlab/catalyst_main/results/summary_v2/ascat/237620-WG01/237620-WG01.copynumber.totalCn.bw', '/Volumes/scratch/neurosurgery/akdemirlab/catalyst_main/results/summary_v2/ascat/235881-WG01/235881-WG01.copynumber.totalCn.bw', '/Volumes/scratch/neurosurgery/akdemirlab/catalyst_main/results/summary_v2/ascat/235882-WG01/235882-WG01.copynumber.totalCn.bw', '/Volumes/scratch/neurosurgery/akdemirlab/catalyst_main/results/summary_v2/ascat/235883-WG01/235883-WG01.copynumber.totalCn.bw', '/Volumes/scratch/neurosurgery/akdemirlab/catalyst_main/results/summary_v2/ascat/235884-WG01/235884-WG01.copynumber.totalCn.bw', '/Volumes/scratch/neurosurgery/akdemirlab/catalyst_main/results/summary_v2/ascat/235885-WG01/235885-WG01.copynumber.totalCn.bw', '/Volumes/scratch/neurosurgery/akdemirlab/catalyst_main/results/summary_v2/ascat/235886-WG01/235886-WG01.copynumber.totalCn.bw', '/Volumes/scratch/neurosurgery/akdemirlab/catalyst_main/results/summary_v2/ascat/235887-WG01/235887-WG01.copynumber.totalCn.bw', '/Volumes/scratch/neurosurgery/akdemirlab/catalyst_main/results/summary_v2/ascat/235888-WG01/235888-WG01.copynumber.totalCn.bw', '/Volumes/scratch/neurosurgery/akdemirlab/catalyst_main/results/summary_v2/ascat/235889-WG01/235889-WG01.copynumber.totalCn.bw', '/Volumes/scratch/neurosurgery/akdemirlab/catalyst_main/results/summary_v2/ascat/235890-WG01/235890-WG01.copynumber.totalCn.bw', '/Volumes/scratch/neurosurgery/akdemirlab/catalyst_main/results/summary_v2/ascat/235891-WG01/235891-WG01.copynumber.totalCn.bw', '/Volumes/scratch/neurosurgery/akdemirlab/catalyst_main/results/summary_v2/ascat/235892-WG01/235892-WG01.copynumber.totalCn.bw', '/Volumes/scratch/neurosurgery/akdemirlab/catalyst_main/results/summary_v2/ascat/235893-WG01/235893-WG01.copynumber.totalCn.bw', '/Volumes/scratch/neurosurgery/akdemirlab/catalyst_main/results/summary_v2/ascat/235894-WG01/235894-WG01.copynumber.totalCn.bw', '/Volumes/scratch/neurosurgery/akdemirlab/catalyst_main/results/summary_v2/ascat/235895-WG01/235895-WG01.copynumber.totalCn.bw', '/Volumes/scratch/neurosurgery/akdemirlab/catalyst_main/results/summary_v2/ascat/235896-WG01/235896-WG01.copynumber.totalCn.bw', '/Volumes/scratch/neurosurgery/akdemirlab/catalyst_main/results/summary_v2/ascat/235897-WG01/235897-WG01.copynumber.totalCn.bw', '/Volumes/scratch/neurosurgery/akdemirlab/catalyst_main/results/summary_v2/ascat/235898-WG01/235898-WG01.copynumber.totalCn.bw', '/Volumes/scratch/neurosurgery/akdemirlab/catalyst_main/results/summary_v2/ascat/235899-WG01/235899-WG01.copynumber.totalCn.bw', '/Volumes/scratch/neurosurgery/akdemirlab/catalyst_main/results/summary_v2/ascat/235900-WG01/235900-WG01.copynumber.totalCn.bw', '/Volumes/scratch/neurosurgery/akdemirlab/catalyst_main/results/summary_v2/ascat/235901-WG01/235901-WG01.copynumber.totalCn.bw', '/Volumes/scratch/neurosurgery/akdemirlab/catalyst_main/results/summary_v2/ascat/235902-WG01/235902-WG01.copynumber.totalCn.bw', '/Volumes/scratch/neurosurgery/akdemirlab/catalyst_main/results/summary_v2/ascat/235903-WG01/235903-WG01.copynumber.totalCn.bw', '/Volumes/scratch/neurosurgery/akdemirlab/catalyst_main/results/summary_v2/ascat/235904-WG01/235904-WG01.copynumber.totalCn.bw', '/Volumes/scratch/neurosurgery/akdemirlab/catalyst_main/results/summary_v2/ascat/235905-WG01/235905-WG01.copynumber.totalCn.bw', '/Volumes/scratch/neurosurgery/akdemirlab/catalyst_main/results/summary_v2/ascat/235906-WG01/235906-WG01.copynumber.totalCn.bw', '/Volumes/scratch/neurosurgery/akdemirlab/catalyst_main/results/summary_v2/ascat/235907-WG01/235907-WG01.copynumber.totalCn.bw', '/Volumes/scratch/neurosurgery/akdemirlab/catalyst_main/results/summary_v2/ascat/235908-WG01/235908-WG01.copynumber.totalCn.bw', '/Volumes/scratch/neurosurgery/akdemirlab/catalyst_main/results/summary_v2/ascat/235909-WG01/235909-WG01.copynumber.totalCn.bw', '/Volumes/scratch/neurosurgery/akdemirlab/catalyst_main/results/summary_v2/ascat/235910-WG01/235910-WG01.copynumber.totalCn.bw', '/Volumes/scratch/neurosurgery/akdemirlab/catalyst_main/results/summary_v2/ascat/235911-WG01/235911-WG01.copynumber.totalCn.bw', '/Volumes/scratch/neurosurgery/akdemirlab/catalyst_main/results/summary_v2/ascat/235912-WG01/235912-WG01.copynumber.totalCn.bw', '/Volumes/scratch/neurosurgery/akdemirlab/catalyst_main/results/summary_v2/ascat/235913-WG01/235913-WG01.copynumber.totalCn.bw', '/Volumes/scratch/neurosurgery/akdemirlab/catalyst_main/results/summary_v2/ascat/235914-WG01/235914-WG01.copynumber.totalCn.bw', '/Volumes/scratch/neurosurgery/akdemirlab/catalyst_main/results/summary_v2/ascat/235915-WG01/235915-WG01.copynumber.totalCn.bw', '/Volumes/scratch/neurosurgery/akdemirlab/catalyst_main/results/summary_v2/ascat/235916-WG01/235916-WG01.copynumber.totalCn.bw', '/Volumes/scratch/neurosurgery/akdemirlab/catalyst_main/results/summary_v2/ascat/235917-WG01/235917-WG01.copynumber.totalCn.bw', '/Volumes/scratch/neurosurgery/akdemirlab/catalyst_main/results/summary_v2/ascat/235918-WG01/235918-WG01.copynumber.totalCn.bw', '/Volumes/scratch/neurosurgery/akdemirlab/catalyst_main/results/summary_v2/ascat/235919-WG01/235919-WG01.copynumber.totalCn.bw', '/Volumes/scratch/neurosurgery/akdemirlab/catalyst_main/results/summary_v2/ascat/237623-WG01/237623-WG01.copynumber.totalCn.bw', '/Volumes/scratch/neurosurgery/akdemirlab/catalyst_main/results/summary_v2/ascat/238066-WG01/238066-WG01.copynumber.totalCn.bw', '/Volumes/scratch/neurosurgery/akdemirlab/catalyst_main/results/summary_v2/ascat/235920-WG01/235920-WG01.copynumber.totalCn.bw']\n",
      "['236626-WG01', '235842-WG01', '235843-WG01', '237614-WG01', '237615-WG01', '236627-WG01', '237616-WG01', '235844-WG01', '235845-WG01', '235846-WG01', '235847-WG01', '239223-WG01', '235848-WG01', '235849-WG01', '235850-WG01', '235851-WG01', '236628-WG01', '235852-WG01', '235853-WG01', '237617-WG01', '235854-WG01', '238063-WG01', '235855-WG01', '235856-WG01', '235857-WG01', '235858-WG01', '235859-WG01', '235860-WG01', '235861-WG01', '235862-WG01', '235863-WG01', '235864-WG01', '235865-WG01', '235866-WG01', '235867-WG01', '236629-WG01', '235868-WG01', '235869-WG01', '235870-WG01', '235871-WG01', '235872-WG01', '239238-WG01', '235873-WG01', '235874-WG01', '235875-WG01', '235876-WG01', '235877-WG01', '235878-WG01', '235879-WG01', '235880-WG01', '237620-WG01', '235881-WG01', '235882-WG01', '235883-WG01', '235884-WG01', '235885-WG01', '235886-WG01', '235887-WG01', '235888-WG01', '235889-WG01', '235890-WG01', '235891-WG01', '235892-WG01', '235893-WG01', '235894-WG01', '235895-WG01', '235896-WG01', '235897-WG01', '235898-WG01', '235899-WG01', '235900-WG01', '235901-WG01', '235902-WG01', '235903-WG01', '235904-WG01', '235905-WG01', '235906-WG01', '235907-WG01', '235908-WG01', '235909-WG01', '235910-WG01', '235911-WG01', '235912-WG01', '235913-WG01', '235914-WG01', '235915-WG01', '235916-WG01', '235917-WG01', '235918-WG01', '235919-WG01', '237623-WG01', '238066-WG01', '235920-WG01']\n",
      "[2.01237225925537, 1.90661441912304, 3.64230306687785, 3.7384695472806, 3.63447039652363, 2.00210564728502, 3.29009366707808, 1.82067402384773, 1.85127624463904, 3.95008091337369, 1.95182609188129, 1.95960562252753, 1.80564704805971, 2.00473790597196, 1.98846773034041, 1.8804749374853, 3.86003714931553, 1.89933864398352, 1.76861859050423, 1.74639632314832, 1.82953636154807, 1.8820352669268, 1.94518703538118, 1.8837520731696, 1.99434926189485, 1.94299447706402, 1.99624216959636, 2.99737857818088, 1.93473356085942, 1.97779151630694, 3.96596620356256, 1.98437939232551, 1.99419221548695, 3.65379713764675, 3.5839539846906, 2.01303507979606, 1.97247908326438, 3.44614491805958, 1.93454385628157, 1.99659126359949, 3.13192834758099, 1.92877606351794, 4.11136721458758, 1.96656016064204, 1.96527855022585, 1.91411774446395, 1.90557101895542, 1.93880806933499, 3.87332733577046, 1.97235438424412, 1.99768495591403, 3.9598151414915, 1.98842298261215, 2.05641187955703, 1.9225318245417, 2.00761179880544, 3.82567099762702, 1.89219824486234, 1.93576553261075, 1.8841728894595, 1.67436516650763, 1.95494706478913, 1.95400064593748, 1.953533554558, 1.87845603477207, 1.65720992571285, 1.89219685233242, 2.03729419025218, 1.88602566703091, 1.96926319415338, 1.88411334750204, 1.89357691884346, 2.11447353792023, 1.86522401786316, 2.05911773968058, 1.77973961372175, 1.91507893422983, 2.23658974328276, 4.46702178776209, 1.90033685018893, 1.8242944564631, 2.0596840254274, 1.95497426867578, 1.91596740167258, 1.85498294012943, 1.88651909172669, 3.89931615013907, 1.86917540093446, 1.88499774628136, 3.90367068420089, 1.87292825181031, 1.93149623402788, 1.83807434467291]\n",
      "     wgs_seq_id  ploidy_ascat  \\\n",
      "27  235860-WG01      2.997379   \n",
      "\n",
      "                                                paths  \n",
      "27  /Volumes/scratch/neurosurgery/akdemirlab/catal...  \n"
     ]
    }
   ],
   "source": [
    "print(paths)\n",
    "print(names)\n",
    "print(ploidy)\n",
    "print((meta_ploidy[meta_ploidy['wgs_seq_id']=='235860-WG01']))"
   ]
  },
  {
   "cell_type": "code",
   "execution_count": 22,
   "metadata": {},
   "outputs": [
    {
     "data": {
      "text/html": [
       "<div>\n",
       "<style scoped>\n",
       "    .dataframe tbody tr th:only-of-type {\n",
       "        vertical-align: middle;\n",
       "    }\n",
       "\n",
       "    .dataframe tbody tr th {\n",
       "        vertical-align: top;\n",
       "    }\n",
       "\n",
       "    .dataframe thead th {\n",
       "        text-align: right;\n",
       "    }\n",
       "</style>\n",
       "<table border=\"1\" class=\"dataframe\">\n",
       "  <thead>\n",
       "    <tr style=\"text-align: right;\">\n",
       "      <th></th>\n",
       "      <th>wgs_seq_id</th>\n",
       "      <th>ploidy_ascat</th>\n",
       "      <th>paths</th>\n",
       "    </tr>\n",
       "  </thead>\n",
       "  <tbody>\n",
       "    <tr>\n",
       "      <th>27</th>\n",
       "      <td>235860-WG01</td>\n",
       "      <td>2.997379</td>\n",
       "      <td>/Volumes/scratch/neurosurgery/akdemirlab/catal...</td>\n",
       "    </tr>\n",
       "  </tbody>\n",
       "</table>\n",
       "</div>"
      ],
      "text/plain": [
       "     wgs_seq_id  ploidy_ascat  \\\n",
       "27  235860-WG01      2.997379   \n",
       "\n",
       "                                                paths  \n",
       "27  /Volumes/scratch/neurosurgery/akdemirlab/catal...  "
      ]
     },
     "execution_count": 22,
     "metadata": {},
     "output_type": "execute_result"
    }
   ],
   "source": [
    "meta_ploidy[meta_ploidy['wgs_seq_id']=='235860-WG01']"
   ]
  },
  {
   "cell_type": "code",
   "execution_count": 23,
   "metadata": {},
   "outputs": [],
   "source": [
    "\n",
    "gap_file = \"/Users/lye1/data/projects_akdemirlab/catalyst_main/reference/hgTables_gap_hg38.tsv\"\n",
    "gap = pd.read_csv(gap_file, sep = '\\t')\n",
    "#genes = pd.read_csv(\"driver_gene_cnv_location.tsv\", sep='\\t')\n",
    "genes = pd.read_csv('/Users/lye1/data/projects_akdemirlab/catalyst_main/data/download/ensembl_grch38p14_gene_location.csv')\n",
    "\n",
    "genes = genes[genes['chr'].isin(['1', '2', '3', '4', '5', '6', '7', '8', '9', '10',\n",
    "'11', '12', '13', '14', '15', '16', '17', '18', '19', '20',\n",
    "'21', '22', 'X', 'Y'])]\n",
    "genes = genes[genes['name'].notnull()]\n",
    "genes['chr'] = 'chr'+ genes['chr'] "
   ]
  },
  {
   "cell_type": "code",
   "execution_count": null,
   "metadata": {},
   "outputs": [],
   "source": [
    "matrix_arms= vt.cn_matrix_arms(paths,  names, ploidy)\n",
    "matrix_bins = vt.cn_matrix_bins(paths,  names, ploidy, bins_size=10_000_000)\n",
    "matrix_bins_filtered = vt.filter_gaps(matrix_bins,gap)\n",
    "matrix_genes = vt.cn_matrix_genes(paths,  names, ploidy, genes)"
   ]
  },
  {
   "cell_type": "code",
   "execution_count": 9,
   "metadata": {},
   "outputs": [],
   "source": [
    "matrix_bins_filtered.to_csv('/Users/lye1/data/projects_akdemirlab/catalyst_main/notebooks_s2/tables/cn_matrix_bin_10m.csv', index=False)\n",
    "matrix_arms.to_csv('/Users/lye1/data/projects_akdemirlab/catalyst_main/notebooks_s2/tables/cn_matrix_arm.csv', index=False)"
   ]
  },
  {
   "cell_type": "code",
   "execution_count": 15,
   "metadata": {},
   "outputs": [],
   "source": [
    "import numpy as np\n",
    "def matrix2comut_all(matrix):\n",
    "    df = pd.melt(matrix, id_vars=['chr', 'name', 'start', 'end'],\n",
    "                                    var_name='sample', value_name='cn')\n",
    "    #print(df[df['sample']=='235855-WG01'])\n",
    "    df['cna'] = np.where(df['cn'] <= 1.5, 'deletion', np.where(df['cn'] >=2.5, 'amplification', ''))\n",
    "    df = df[['name', 'sample', 'cna']].rename(columns={'name': 'category', 'cna': 'value'})\n",
    "    #print(df[df['sample']=='235855-WG01'])\n",
    "    return df"
   ]
  },
  {
   "cell_type": "code",
   "execution_count": 16,
   "metadata": {},
   "outputs": [],
   "source": [
    "matrix2comut_all(matrix_arms).to_csv('/Users/lye1/data/projects_akdemirlab/catalyst_main/results/figure_comut_v2/comut_arm_wgs.csv', index=False)\n",
    "matrix2comut_all(matrix_genes).to_csv('/Users/lye1/data/projects_akdemirlab/catalyst_main/results/figure_comut_v2/comut_genes_wgs.csv', index=False)"
   ]
  },
  {
   "cell_type": "code",
   "execution_count": 17,
   "metadata": {},
   "outputs": [
    {
     "name": "stdout",
     "output_type": "stream",
     "text": [
      "     category       sample          value\n",
      "0   chr1p/19q  236626-WG01               \n",
      "12       chr7  236626-WG01  amplification\n",
      "13       chr7  236626-WG01               \n",
      "18      chr10  236626-WG01       deletion\n",
      "19      chr10  236626-WG01       deletion\n",
      "\n",
      " remove not-uniques:\n",
      "       category       sample          value\n",
      "0     chr1p/19q  236626-WG01               \n",
      "12         chr7  236626-WG01  amplification\n",
      "13         chr7  236626-WG01               \n",
      "18        chr10  236626-WG01       deletion\n",
      "37    chr1p/19q  236626-WG01  amplification\n",
      "...         ...          ...            ...\n",
      "4398  chr1p/19q  238066-WG01  amplification\n",
      "4410  chr1p/19q  235920-WG01               \n",
      "4422       chr7  235920-WG01  amplification\n",
      "4428      chr10  235920-WG01       deletion\n",
      "4447  chr1p/19q  235920-WG01       deletion\n",
      "\n",
      "[327 rows x 3 columns]\n"
     ]
    }
   ],
   "source": [
    "comut_all_arm_merged = matrix2comut_all(matrix_arms)\n",
    "comut_all_arm_merged['category_merge'] = ''\n",
    "comut_all_arm_merged.loc[(comut_all_arm_merged['category']=='chr1_p')|(comut_all_arm_merged['category']=='chr19_q'), 'category_merge'] = 'chr1p/19q'\n",
    "comut_all_arm_merged.loc[(comut_all_arm_merged['category']=='chr7_p')|(comut_all_arm_merged['category']=='chr7_q'), 'category_merge'] = 'chr7'\n",
    "comut_all_arm_merged.loc[(comut_all_arm_merged['category']=='chr10_p')|(comut_all_arm_merged['category']=='chr10_q'), 'category_merge'] = 'chr10'\n",
    "comut_all_arm_merged = comut_all_arm_merged[comut_all_arm_merged['category_merge']!='']\n",
    "comut_all_arm_merged['category'] = comut_all_arm_merged['category_merge']\n",
    "comut_all_arm_merged = comut_all_arm_merged.drop(columns='category_merge')  \n",
    "print(comut_all_arm_merged.head()) \n",
    "\n",
    "print('\\n remove not-uniques:')\n",
    "def check_consistency(group):\n",
    "  if group.nunique() > 1:\n",
    "    return ''\n",
    "  else:\n",
    "    return group.iloc[0]  # Return the first value (consistent)\n",
    "\n",
    "# 'and'\n",
    "## comut_all_arm_merged['value'] = comut_all_arm_merged.groupby(['category', 'sample'])['value'].transform(check_consistency)\n",
    "\n",
    "comut_all_arm_merged = comut_all_arm_merged.drop_duplicates() \n",
    "print(comut_all_arm_merged)\n",
    "\n",
    "comut_all_arm_merged.to_csv('/Users/lye1/data/projects_akdemirlab/catalyst_main/results/figure_comut_v2/comut_chr_wgs.csv', index=False)                                           "
   ]
  }
 ],
 "metadata": {
  "kernelspec": {
   "display_name": "base",
   "language": "python",
   "name": "python3"
  },
  "language_info": {
   "codemirror_mode": {
    "name": "ipython",
    "version": 3
   },
   "file_extension": ".py",
   "mimetype": "text/x-python",
   "name": "python",
   "nbconvert_exporter": "python",
   "pygments_lexer": "ipython3",
   "version": "3.12.7"
  }
 },
 "nbformat": 4,
 "nbformat_minor": 2
}
