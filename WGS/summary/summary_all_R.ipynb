{
 "cells": [
  {
   "cell_type": "code",
   "execution_count": null,
   "metadata": {
    "vscode": {
     "languageId": "r"
    }
   },
   "outputs": [],
   "source": [
    "library(tidyverse)\n",
    "library(stringr)\n",
    "\n",
    "setwd('/Volumes/scratch/neurosurgery/akdemirlab/catalyst_main/results/summary_all_v2')\n",
    "snv_mutect = read_csv('snv_mutect_counts.csv') %>% \n",
    "  rename(snv_mutect = counts, wgs_seq_id=name) \n",
    "snv_strelka = read_csv('snv_strelka_counts.csv') %>%\n",
    "  rename(snv_strelka = counts, wgs_seq_id=name)\n",
    "snv_overlap = read_csv('snv_overlap_counts.csv') %>%\n",
    "  rename(snv_overlap = counts, wgs_seq_id=name)"
   ]
  },
  {
   "cell_type": "code",
   "execution_count": null,
   "metadata": {
    "vscode": {
     "languageId": "r"
    }
   },
   "outputs": [],
   "source": [
    "meta = read_csv('/Users/lye1/data/projects_akdemirlab/catalyst_main/meta/meta_catalyst-main_v1.0_12_06_basic.csv') \n",
    "\n",
    "sv_jabba = read_csv('sv_jabba_counts.csv') %>%\n",
    "  rename(wgs_seq_id=name) %>%\n",
    "  pivot_wider(names_from = svtype, values_from = Count)  %>%\n",
    "  replace(is.na(.), 0) %>%\n",
    "  mutate(sv_jabba=paste0('BND:', BND, ',DEL:', DEL, ',DUP:', DUP, ',INV:', INV, ',LOOSEEND:', LOOSEEND)) %>%\n",
    "  dplyr::select(wgs_seq_id, sv_jabba)\n",
    "\n",
    "sv_svaba = read_csv('sv_svaba_counts.csv') %>%\n",
    "  rename(wgs_seq_id=name) %>%\n",
    "  pivot_wider(names_from = svtype, values_from = Count)  %>%\n",
    "  replace(is.na(.), 0) %>%\n",
    "  mutate(sv_svaba=paste0('BND:', BND, ',DEL:', DEL, ',DUP:', DUP, ',INV:', INV)) %>%\n",
    "  dplyr::select(wgs_seq_id, sv_svaba)\n",
    "\n",
    "sv_smoove = read_csv('sv_smoove_counts.csv') %>%\n",
    "  rename(wgs_seq_id=name) %>%\n",
    "  pivot_wider(names_from = svtype, values_from = Count)  %>%\n",
    "  replace(is.na(.), 0) %>%\n",
    "  mutate(sv_smoove=paste0('BND:', BND, ',DEL:', DEL, ',DUP:', DUP, ',INV:', INV)) %>%\n",
    "  dplyr::select(wgs_seq_id, sv_smoove)\n",
    "\n",
    "sv_purple = read_csv('sv_purple_counts.csv') %>%\n",
    "  rename(wgs_seq_id=name) %>%\n",
    "  pivot_wider(names_from = svtype, values_from = Count)  %>%\n",
    "  replace(is.na(.), 0) %>%\n",
    "  mutate(sv_purple=paste0('BND:', BND, ',DEL:', DEL, ',DUP:', DUP, ',INV:', INV, ',LOOSEEND:', LOOSEEND)) %>%\n",
    "  dplyr::select(wgs_seq_id, sv_purple)\n",
    "\n",
    "sv_overlap = read_csv('sv_overlap_counts.csv') %>%\n",
    "  rename(wgs_seq_id=name) %>%\n",
    "  pivot_wider(names_from = svtype, values_from = Count) %>%\n",
    "  replace(is.na(.), 0) %>% \n",
    "  mutate(SV_SUM = BND+DEL+DUP+INV+LOOSEEND)"
   ]
  },
  {
   "cell_type": "code",
   "execution_count": null,
   "metadata": {
    "vscode": {
     "languageId": "r"
    }
   },
   "outputs": [],
   "source": [
    "ploidy_ascat = read_csv('ploidy_ascat.csv') %>%\n",
    "  rename(ploidy_ascat = ploidy, purity_ascat=purity, wgs_seq_id=name)\n",
    "ploidy_facets = read_csv('ploidy_facets.csv') %>%\n",
    "  rename(ploidy_facets = ploidy, purity_facets=purity, wgs_seq_id=name)\n",
    "ploidy_purple = read_csv('ploidy_purple.csv') %>%\n",
    "  rename(ploidy_purple = ploidy, purity_purple=purity, wgs_seq_id=name)"
   ]
  },
  {
   "cell_type": "code",
   "execution_count": null,
   "metadata": {
    "vscode": {
     "languageId": "r"
    }
   },
   "outputs": [],
   "source": [
    "#TODO\n",
    "mtsnv_wgs = read_csv('mtsnv_wgs_counts.csv') %>% \n",
    "  rename(mtsnv_wgs = counts, `wgs_seq_id`=name) \n",
    "mtsnv_atac = read_csv('mtsnv_atac_counts.csv') %>% \n",
    "  rename(mtsnv_atac = counts, `atac_seq_id`=name) \n",
    "\n",
    "\n",
    "mt_depth_wgs = read_csv('mt_depth_wgs.csv') %>%\n",
    "  rename(mt_depth_wgs = count, `wgs_seq_id`=name) \n",
    "mt_depth_atac = read_csv('mt_depth_atac.csv') %>% \n",
    "  rename(mt_depth_atac = count, `atac_seq_id`=name) "
   ]
  },
  {
   "cell_type": "code",
   "execution_count": 8,
   "metadata": {
    "vscode": {
     "languageId": "r"
    }
   },
   "outputs": [],
   "source": [
    "\n",
    "summary = meta %>% left_join(snv_mutect, by='wgs_seq_id') %>% left_join(snv_strelka, by='wgs_seq_id') %>% left_join(snv_overlap, by='wgs_seq_id') %>%\n",
    "  left_join(sv_jabba, by='wgs_seq_id') %>% left_join(sv_svaba, by='wgs_seq_id') %>% left_join(sv_smoove, by='wgs_seq_id') %>% left_join(sv_purple, by='wgs_seq_id') %>% left_join(sv_overlap, by='wgs_seq_id') %>%\n",
    "  left_join(ploidy_ascat, by='wgs_seq_id') %>% left_join(ploidy_facets, by='wgs_seq_id')  %>% left_join(ploidy_purple, by='wgs_seq_id') "
   ]
  },
  {
   "cell_type": "code",
   "execution_count": 4,
   "metadata": {
    "vscode": {
     "languageId": "r"
    }
   },
   "outputs": [],
   "source": [
    "#TODO\n",
    "summary = meta %>% left_join(mtsnv_wgs, by='wgs_seq_id') %>% left_join(mtsnv_atac, by='atac_seq_id') %>%\n",
    "  left_join(mt_depth_wgs, by='wgs_seq_id') %>% left_join(mt_depth_atac, by='atac_seq_id')"
   ]
  },
  {
   "cell_type": "code",
   "execution_count": null,
   "metadata": {
    "vscode": {
     "languageId": "r"
    }
   },
   "outputs": [],
   "source": [
    "summary"
   ]
  },
  {
   "cell_type": "code",
   "execution_count": 9,
   "metadata": {
    "vscode": {
     "languageId": "r"
    }
   },
   "outputs": [],
   "source": [
    "write_csv(summary, '/Users/lye1/data/projects_akdemirlab/catalyst_main/meta/summary_2025_01_17.csv')"
   ]
  }
 ],
 "metadata": {
  "kernelspec": {
   "display_name": "R",
   "language": "R",
   "name": "ir"
  },
  "language_info": {
   "codemirror_mode": "r",
   "file_extension": ".r",
   "mimetype": "text/x-r-source",
   "name": "R",
   "pygments_lexer": "r",
   "version": "4.2.1"
  },
  "orig_nbformat": 4
 },
 "nbformat": 4,
 "nbformat_minor": 2
}
